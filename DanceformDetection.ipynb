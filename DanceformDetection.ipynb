{
  "nbformat": 4,
  "nbformat_minor": 0,
  "metadata": {
    "colab": {
      "name": "DanceformDetection.ipynb",
      "provenance": [],
      "collapsed_sections": [],
      "mount_file_id": "16wzDcbJNh87yQVhuQ8fxWV-BqA-h6PfA",
      "authorship_tag": "ABX9TyP7siLCiOj6LCb17ZF4X4BR",
      "include_colab_link": true
    },
    "kernelspec": {
      "name": "python3",
      "display_name": "Python 3"
    },
    "accelerator": "GPU"
  },
  "cells": [
    {
      "cell_type": "markdown",
      "metadata": {
        "id": "view-in-github",
        "colab_type": "text"
      },
      "source": [
        "<a href=\"https://colab.research.google.com/github/Mittra19/Indian-Danceform-Detection/blob/master/DanceformDetection.ipynb\" target=\"_parent\"><img src=\"https://colab.research.google.com/assets/colab-badge.svg\" alt=\"Open In Colab\"/></a>"
      ]
    },
    {
      "cell_type": "markdown",
      "metadata": {
        "id": "ISpvca-373ss",
        "colab_type": "text"
      },
      "source": [
        "#Import Libraries"
      ]
    },
    {
      "cell_type": "code",
      "metadata": {
        "id": "BsLLxSRUmmlj",
        "colab_type": "code",
        "colab": {
          "base_uri": "https://localhost:8080/",
          "height": 34
        },
        "outputId": "ab492859-a484-4289-bdcb-e895abdad9d4"
      },
      "source": [
        "import tensorflow as tf\n",
        "import numpy as np\n",
        "import pandas as pd\n",
        "import os\n",
        "import matplotlib.pyplot as plt\n",
        "from sklearn.preprocessing import LabelEncoder\n",
        "from sklearn.preprocessing import OneHotEncoder\n",
        "from sklearn.model_selection import train_test_split\n",
        "from tensorflow.keras.optimizers import RMSprop\n",
        "from tensorflow.keras import regularizers\n",
        "from keras.preprocessing.image import ImageDataGenerator"
      ],
      "execution_count": 2,
      "outputs": [
        {
          "output_type": "stream",
          "text": [
            "Using TensorFlow backend.\n"
          ],
          "name": "stderr"
        }
      ]
    },
    {
      "cell_type": "markdown",
      "metadata": {
        "id": "SnbNN2hN7-EK",
        "colab_type": "text"
      },
      "source": [
        "#Import Dataset"
      ]
    },
    {
      "cell_type": "code",
      "metadata": {
        "id": "n-Uq0m0nm1OW",
        "colab_type": "code",
        "colab": {}
      },
      "source": [
        "train_dataset = pd.read_csv('/content/drive/My Drive/Colab Notebooks/Hackerearth Competitions/Identify the dance form/dataset/train.csv')\n",
        "test_dataset = pd.read_csv('/content/drive/My Drive/Colab Notebooks/Hackerearth Competitions/Identify the dance form/dataset/test.csv')"
      ],
      "execution_count": 0,
      "outputs": []
    },
    {
      "cell_type": "code",
      "metadata": {
        "id": "AcYAUyZ7oNdA",
        "colab_type": "code",
        "colab": {}
      },
      "source": [
        "images = []\n",
        "labels = []\n",
        "filename = []\n",
        "training_path = '/content/drive/My Drive/Colab Notebooks/Hackerearth Competitions/Identify the dance form/dataset/train'\n",
        "for file in os.listdir(training_path):\n",
        "  img = tf.keras.preprocessing.image.load_img(os.path.join(training_path, file), target_size=[600, 600], interpolation='nearest')\n",
        "  img = tf.keras.preprocessing.image.img_to_array(img)\n",
        "  for i in range(train_dataset.shape[0]):\n",
        "    if str(file) == train_dataset['Image'][i]:\n",
        "      filename.append(train_dataset['Image'][i])\n",
        "      labels.append(train_dataset['target'][i])\n",
        "  images.append(img)"
      ],
      "execution_count": 0,
      "outputs": []
    },
    {
      "cell_type": "markdown",
      "metadata": {
        "id": "G0Rm2Sd38K-V",
        "colab_type": "text"
      },
      "source": [
        "#Data preprocessing and visualization"
      ]
    },
    {
      "cell_type": "code",
      "metadata": {
        "id": "H_9ALvdPn4zj",
        "colab_type": "code",
        "outputId": "138678a2-7dca-42ee-e978-077df7b69b49",
        "colab": {
          "base_uri": "https://localhost:8080/",
          "height": 255
        }
      },
      "source": [
        "train_dataset.info"
      ],
      "execution_count": 4,
      "outputs": [
        {
          "output_type": "execute_result",
          "data": {
            "text/plain": [
              "<bound method DataFrame.info of        Image         target\n",
              "0     96.jpg       manipuri\n",
              "1    163.jpg  bharatanatyam\n",
              "2    450.jpg         odissi\n",
              "3    219.jpg      kathakali\n",
              "4    455.jpg         odissi\n",
              "..       ...            ...\n",
              "359   72.jpg       manipuri\n",
              "360  253.jpg   mohiniyattam\n",
              "361  404.jpg      kuchipudi\n",
              "362   89.jpg       manipuri\n",
              "363  311.jpg   mohiniyattam\n",
              "\n",
              "[364 rows x 2 columns]>"
            ]
          },
          "metadata": {
            "tags": []
          },
          "execution_count": 4
        }
      ]
    },
    {
      "cell_type": "code",
      "metadata": {
        "id": "mypyGgBkn9OP",
        "colab_type": "code",
        "outputId": "326a38c6-5780-4d2a-c9ed-ea0fcb70d25a",
        "colab": {
          "base_uri": "https://localhost:8080/",
          "height": 255
        }
      },
      "source": [
        "train_dataset.describe"
      ],
      "execution_count": 5,
      "outputs": [
        {
          "output_type": "execute_result",
          "data": {
            "text/plain": [
              "<bound method NDFrame.describe of        Image         target\n",
              "0     96.jpg       manipuri\n",
              "1    163.jpg  bharatanatyam\n",
              "2    450.jpg         odissi\n",
              "3    219.jpg      kathakali\n",
              "4    455.jpg         odissi\n",
              "..       ...            ...\n",
              "359   72.jpg       manipuri\n",
              "360  253.jpg   mohiniyattam\n",
              "361  404.jpg      kuchipudi\n",
              "362   89.jpg       manipuri\n",
              "363  311.jpg   mohiniyattam\n",
              "\n",
              "[364 rows x 2 columns]>"
            ]
          },
          "metadata": {
            "tags": []
          },
          "execution_count": 5
        }
      ]
    },
    {
      "cell_type": "code",
      "metadata": {
        "id": "d7r5L0E6oEcq",
        "colab_type": "code",
        "outputId": "f9b6c03a-1530-4ee3-a193-194ae4a59cc6",
        "colab": {
          "base_uri": "https://localhost:8080/",
          "height": 34
        }
      },
      "source": [
        "train_dataset.shape[0]"
      ],
      "execution_count": 6,
      "outputs": [
        {
          "output_type": "execute_result",
          "data": {
            "text/plain": [
              "364"
            ]
          },
          "metadata": {
            "tags": []
          },
          "execution_count": 6
        }
      ]
    },
    {
      "cell_type": "code",
      "metadata": {
        "id": "wdhR-S7co_9i",
        "colab_type": "code",
        "outputId": "0dc3f833-4373-4d17-96f6-2cd48176064d",
        "colab": {
          "base_uri": "https://localhost:8080/",
          "height": 54
        }
      },
      "source": [
        "'''\n",
        "training_path = '/content/drive/My Drive/Colab Notebooks/Hackerearth Competitions/Identify the dance form/dataset/train'\n",
        "for file in os.listdir(training_path):\n",
        "  img = tf.keras.preprocessing.image.load_img(os.path.join(training_path, file))\n",
        "  img = tf.keras.preprocessing.image.img_to_array(img)\n",
        "  print(img.shape)\n",
        "  '''"
      ],
      "execution_count": 7,
      "outputs": [
        {
          "output_type": "execute_result",
          "data": {
            "text/plain": [
              "\"\\ntraining_path = '/content/drive/My Drive/Colab Notebooks/Hackerearth Competitions/Identify the dance form/dataset/train'\\nfor file in os.listdir(training_path):\\n  img = tf.keras.preprocessing.image.load_img(os.path.join(training_path, file))\\n  img = tf.keras.preprocessing.image.img_to_array(img)\\n  print(img.shape)\\n  \""
            ]
          },
          "metadata": {
            "tags": []
          },
          "execution_count": 7
        }
      ]
    },
    {
      "cell_type": "code",
      "metadata": {
        "id": "2ZLlIF04qP6H",
        "colab_type": "code",
        "outputId": "324639cb-55d3-4a2a-8f5d-17de6f3cd8ab",
        "colab": {
          "base_uri": "https://localhost:8080/",
          "height": 34
        }
      },
      "source": [
        "images = np.array(images)\n",
        "images.shape"
      ],
      "execution_count": 9,
      "outputs": [
        {
          "output_type": "execute_result",
          "data": {
            "text/plain": [
              "(364, 600, 600, 3)"
            ]
          },
          "metadata": {
            "tags": []
          },
          "execution_count": 9
        }
      ]
    },
    {
      "cell_type": "code",
      "metadata": {
        "id": "zGX2f4n9ub8K",
        "colab_type": "code",
        "outputId": "4f74c355-eca7-467a-90b9-6379a6d8dc63",
        "colab": {
          "base_uri": "https://localhost:8080/",
          "height": 1000
        }
      },
      "source": [
        "labels = np.array(labels)\n",
        "labels"
      ],
      "execution_count": 10,
      "outputs": [
        {
          "output_type": "execute_result",
          "data": {
            "text/plain": [
              "array(['kathakali', 'bharatanatyam', 'kathak', 'odissi', 'mohiniyattam',\n",
              "       'kuchipudi', 'odissi', 'manipuri', 'bharatanatyam', 'sattriya',\n",
              "       'kathak', 'kathakali', 'mohiniyattam', 'bharatanatyam',\n",
              "       'kathakali', 'kuchipudi', 'sattriya', 'kathak', 'kuchipudi',\n",
              "       'kathak', 'manipuri', 'kathakali', 'kathak', 'mohiniyattam',\n",
              "       'kathak', 'odissi', 'sattriya', 'odissi', 'bharatanatyam',\n",
              "       'manipuri', 'odissi', 'manipuri', 'manipuri', 'kuchipudi',\n",
              "       'kuchipudi', 'bharatanatyam', 'bharatanatyam', 'kathak', 'kathak',\n",
              "       'kathakali', 'kuchipudi', 'bharatanatyam', 'kuchipudi',\n",
              "       'kuchipudi', 'bharatanatyam', 'mohiniyattam', 'sattriya',\n",
              "       'sattriya', 'kathakali', 'kathakali', 'bharatanatyam', 'kuchipudi',\n",
              "       'manipuri', 'bharatanatyam', 'manipuri', 'bharatanatyam',\n",
              "       'sattriya', 'mohiniyattam', 'bharatanatyam', 'kathakali', 'kathak',\n",
              "       'odissi', 'odissi', 'sattriya', 'mohiniyattam', 'manipuri',\n",
              "       'kathak', 'manipuri', 'bharatanatyam', 'kathak', 'kathakali',\n",
              "       'kuchipudi', 'kathakali', 'manipuri', 'kuchipudi', 'manipuri',\n",
              "       'kathakali', 'mohiniyattam', 'odissi', 'mohiniyattam',\n",
              "       'mohiniyattam', 'odissi', 'kathakali', 'odissi', 'kathakali',\n",
              "       'sattriya', 'mohiniyattam', 'odissi', 'sattriya', 'kathak',\n",
              "       'kuchipudi', 'odissi', 'mohiniyattam', 'manipuri', 'kathakali',\n",
              "       'sattriya', 'bharatanatyam', 'sattriya', 'kathak', 'kathakali',\n",
              "       'manipuri', 'mohiniyattam', 'manipuri', 'kathak', 'kuchipudi',\n",
              "       'sattriya', 'kathak', 'kuchipudi', 'kathak', 'kathak', 'kuchipudi',\n",
              "       'bharatanatyam', 'sattriya', 'kathakali', 'kathak', 'mohiniyattam',\n",
              "       'mohiniyattam', 'odissi', 'bharatanatyam', 'kuchipudi',\n",
              "       'mohiniyattam', 'kathakali', 'manipuri', 'mohiniyattam',\n",
              "       'kathakali', 'kuchipudi', 'kuchipudi', 'kuchipudi', 'manipuri',\n",
              "       'sattriya', 'kathakali', 'odissi', 'kathak', 'bharatanatyam',\n",
              "       'kathak', 'kathak', 'manipuri', 'mohiniyattam', 'kathakali',\n",
              "       'bharatanatyam', 'mohiniyattam', 'odissi', 'kathakali',\n",
              "       'mohiniyattam', 'odissi', 'bharatanatyam', 'kuchipudi',\n",
              "       'kathakali', 'sattriya', 'kuchipudi', 'odissi', 'bharatanatyam',\n",
              "       'odissi', 'odissi', 'sattriya', 'kuchipudi', 'odissi', 'odissi',\n",
              "       'manipuri', 'odissi', 'bharatanatyam', 'mohiniyattam',\n",
              "       'mohiniyattam', 'kathakali', 'manipuri', 'manipuri', 'sattriya',\n",
              "       'bharatanatyam', 'manipuri', 'mohiniyattam', 'sattriya',\n",
              "       'kathakali', 'odissi', 'bharatanatyam', 'kathak', 'sattriya',\n",
              "       'sattriya', 'odissi', 'mohiniyattam', 'bharatanatyam', 'sattriya',\n",
              "       'bharatanatyam', 'bharatanatyam', 'manipuri', 'kathakali',\n",
              "       'kuchipudi', 'sattriya', 'kuchipudi', 'kathakali', 'kuchipudi',\n",
              "       'kathakali', 'mohiniyattam', 'odissi', 'odissi', 'kathak',\n",
              "       'bharatanatyam', 'kathak', 'odissi', 'mohiniyattam', 'odissi',\n",
              "       'odissi', 'kathakali', 'kathakali', 'sattriya', 'mohiniyattam',\n",
              "       'sattriya', 'kathakali', 'kuchipudi', 'kathak', 'kuchipudi',\n",
              "       'kathak', 'mohiniyattam', 'manipuri', 'kathakali', 'bharatanatyam',\n",
              "       'sattriya', 'sattriya', 'kuchipudi', 'kuchipudi', 'kathak',\n",
              "       'manipuri', 'mohiniyattam', 'mohiniyattam', 'kuchipudi',\n",
              "       'kathakali', 'odissi', 'odissi', 'bharatanatyam', 'sattriya',\n",
              "       'sattriya', 'mohiniyattam', 'kuchipudi', 'bharatanatyam',\n",
              "       'kathakali', 'bharatanatyam', 'mohiniyattam', 'bharatanatyam',\n",
              "       'sattriya', 'odissi', 'kathakali', 'odissi', 'kuchipudi',\n",
              "       'mohiniyattam', 'sattriya', 'sattriya', 'sattriya', 'mohiniyattam',\n",
              "       'odissi', 'mohiniyattam', 'mohiniyattam', 'kathak', 'mohiniyattam',\n",
              "       'odissi', 'bharatanatyam', 'manipuri', 'bharatanatyam', 'sattriya',\n",
              "       'kathakali', 'kathak', 'odissi', 'sattriya', 'bharatanatyam',\n",
              "       'odissi', 'kathak', 'mohiniyattam', 'odissi', 'kuchipudi',\n",
              "       'mohiniyattam', 'kathak', 'bharatanatyam', 'kathakali', 'kathak',\n",
              "       'kuchipudi', 'odissi', 'kuchipudi', 'kuchipudi', 'kuchipudi',\n",
              "       'kathak', 'mohiniyattam', 'odissi', 'sattriya', 'mohiniyattam',\n",
              "       'mohiniyattam', 'kathakali', 'kathak', 'bharatanatyam', 'kathak',\n",
              "       'mohiniyattam', 'kathak', 'mohiniyattam', 'kuchipudi', 'sattriya',\n",
              "       'kathakali', 'sattriya', 'sattriya', 'bharatanatyam', 'kathakali',\n",
              "       'mohiniyattam', 'mohiniyattam', 'kathakali', 'manipuri', 'odissi',\n",
              "       'manipuri', 'manipuri', 'odissi', 'mohiniyattam', 'odissi',\n",
              "       'manipuri', 'odissi', 'mohiniyattam', 'kathakali', 'kuchipudi',\n",
              "       'sattriya', 'kuchipudi', 'kathak', 'odissi', 'kuchipudi',\n",
              "       'kathakali', 'kathak', 'manipuri', 'odissi', 'kathakali',\n",
              "       'bharatanatyam', 'sattriya', 'kathak', 'manipuri', 'kathak',\n",
              "       'mohiniyattam', 'bharatanatyam', 'kuchipudi', 'kathak',\n",
              "       'mohiniyattam', 'bharatanatyam', 'odissi', 'kathakali', 'manipuri',\n",
              "       'mohiniyattam', 'bharatanatyam', 'sattriya', 'manipuri',\n",
              "       'manipuri', 'odissi', 'kathakali', 'bharatanatyam', 'sattriya',\n",
              "       'kuchipudi', 'bharatanatyam', 'sattriya', 'bharatanatyam',\n",
              "       'sattriya', 'manipuri', 'sattriya', 'kuchipudi', 'kuchipudi',\n",
              "       'bharatanatyam', 'kathak', 'kathakali', 'bharatanatyam',\n",
              "       'kuchipudi', 'manipuri', 'kathak', 'kathak', 'odissi', 'kathakali'],\n",
              "      dtype='<U13')"
            ]
          },
          "metadata": {
            "tags": []
          },
          "execution_count": 10
        }
      ]
    },
    {
      "cell_type": "code",
      "metadata": {
        "id": "Z6MGgxAerIny",
        "colab_type": "code",
        "outputId": "21a0ad8f-24d2-4af3-f625-31613559b47f",
        "colab": {
          "base_uri": "https://localhost:8080/",
          "height": 34
        }
      },
      "source": [
        "type(images)"
      ],
      "execution_count": 11,
      "outputs": [
        {
          "output_type": "execute_result",
          "data": {
            "text/plain": [
              "numpy.ndarray"
            ]
          },
          "metadata": {
            "tags": []
          },
          "execution_count": 11
        }
      ]
    },
    {
      "cell_type": "code",
      "metadata": {
        "id": "vZzDSc_E4EbQ",
        "colab_type": "code",
        "colab": {
          "base_uri": "https://localhost:8080/",
          "height": 153
        },
        "outputId": "7c76954b-369c-4e64-dddf-d7712d98df17"
      },
      "source": [
        "\"\"\"\n",
        "    This block of code counts the number of images belonging to each class. From the data it can be clearly seen that the distribution of data is nonuniform i.e. the number of examples belonging to each class is different \n",
        "\"\"\"\n",
        "count_kathakali = 0\n",
        "count_odissi = 0\n",
        "count_kathak = 0\n",
        "count_bharatanatyam = 0\n",
        "count_kuchipudi = 0\n",
        "count_manipuri = 0\n",
        "count_sattriya = 0\n",
        "count_mohiniyattam = 0\n",
        "for i in range(len(labels)):\n",
        "  if labels[i] == 'kathakali':\n",
        "    count_kathakali +=1\n",
        "  if labels[i] == 'kathak':\n",
        "    count_kathak +=1\n",
        "  if labels[i] == 'odissi':\n",
        "    count_odissi +=1\n",
        "  if labels[i] == 'bharatanatyam':\n",
        "    count_bharatanatyam +=1\n",
        "  if labels[i] == 'kuchipudi':\n",
        "    count_kuchipudi +=1\n",
        "  if labels[i] == 'manipuri':\n",
        "    count_manipuri +=1\n",
        "  if labels[i] == 'sattriya':\n",
        "    count_sattriya +=1\n",
        "  if labels[i] == 'mohiniyattam':\n",
        "    count_mohiniyattam +=1\n",
        "\n",
        "print(\"count_kathakali: \"+str(count_kathakali))\n",
        "print(\"count_odissi: \"+str(count_odissi))\n",
        "print(\"count_kathak: \"+str(count_kathak))\n",
        "print(\"count_bharatanatyam: \"+str(count_bharatanatyam))\n",
        "print(\"count_kuchipudi: \"+str(count_kuchipudi))\n",
        "print(\"count_manipuri: \"+str(count_manipuri))\n",
        "print(\"count_sattriya: \"+str(count_sattriya))\n",
        "print(\"count_mohiniyattam: \"+str(count_mohiniyattam))"
      ],
      "execution_count": 14,
      "outputs": [
        {
          "output_type": "stream",
          "text": [
            "count_kathakali: 47\n",
            "count_odissi: 49\n",
            "count_kathak: 44\n",
            "count_bharatanatyam: 47\n",
            "count_kuchipudi: 46\n",
            "count_manipuri: 36\n",
            "count_sattriya: 45\n",
            "count_mohiniyattam: 50\n"
          ],
          "name": "stdout"
        }
      ]
    },
    {
      "cell_type": "code",
      "metadata": {
        "id": "C4vqrRSRrcve",
        "colab_type": "code",
        "colab": {}
      },
      "source": [
        "images = images/255.0"
      ],
      "execution_count": 0,
      "outputs": []
    },
    {
      "cell_type": "code",
      "metadata": {
        "id": "Pp0GvTvBrLdY",
        "colab_type": "code",
        "outputId": "ea2f80b9-8399-4465-93d7-e4075fcb3fcb",
        "colab": {
          "base_uri": "https://localhost:8080/",
          "height": 286
        }
      },
      "source": [
        "plt.imshow(images[0])"
      ],
      "execution_count": 16,
      "outputs": [
        {
          "output_type": "execute_result",
          "data": {
            "text/plain": [
              "<matplotlib.image.AxesImage at 0x7f9503aa71d0>"
            ]
          },
          "metadata": {
            "tags": []
          },
          "execution_count": 16
        },
        {
          "output_type": "display_data",
          "data": {
            "image/png": "[encoded data removed]",
            "text/plain": [
              "<Figure size 432x288 with 1 Axes>"
            ]
          },
          "metadata": {
            "tags": [],
            "needs_background": "light"
          }
        }
      ]
    },
    {
      "cell_type": "code",
      "metadata": {
        "id": "h7Z2QGwirZez",
        "colab_type": "code",
        "outputId": "a78c75b9-4892-4c79-9dcd-95315b7d7db2",
        "colab": {
          "base_uri": "https://localhost:8080/",
          "height": 51
        }
      },
      "source": [
        "print(labels[0])\n",
        "print(filename[0])"
      ],
      "execution_count": 17,
      "outputs": [
        {
          "output_type": "stream",
          "text": [
            "kathakali\n",
            "230.jpg\n"
          ],
          "name": "stdout"
        }
      ]
    },
    {
      "cell_type": "code",
      "metadata": {
        "id": "JgOkZjXhuRJU",
        "colab_type": "code",
        "outputId": "cfa3b0be-210d-474f-c0e8-4795db08a173",
        "colab": {
          "base_uri": "https://localhost:8080/",
          "height": 306
        }
      },
      "source": [
        "le = LabelEncoder()\n",
        "labels = le.fit_transform(labels)\n",
        "labels"
      ],
      "execution_count": 18,
      "outputs": [
        {
          "output_type": "execute_result",
          "data": {
            "text/plain": [
              "array([2, 0, 1, 6, 5, 3, 6, 4, 0, 7, 1, 2, 5, 0, 2, 3, 7, 1, 3, 1, 4, 2,\n",
              "       1, 5, 1, 6, 7, 6, 0, 4, 6, 4, 4, 3, 3, 0, 0, 1, 1, 2, 3, 0, 3, 3,\n",
              "       0, 5, 7, 7, 2, 2, 0, 3, 4, 0, 4, 0, 7, 5, 0, 2, 1, 6, 6, 7, 5, 4,\n",
              "       1, 4, 0, 1, 2, 3, 2, 4, 3, 4, 2, 5, 6, 5, 5, 6, 2, 6, 2, 7, 5, 6,\n",
              "       7, 1, 3, 6, 5, 4, 2, 7, 0, 7, 1, 2, 4, 5, 4, 1, 3, 7, 1, 3, 1, 1,\n",
              "       3, 0, 7, 2, 1, 5, 5, 6, 0, 3, 5, 2, 4, 5, 2, 3, 3, 3, 4, 7, 2, 6,\n",
              "       1, 0, 1, 1, 4, 5, 2, 0, 5, 6, 2, 5, 6, 0, 3, 2, 7, 3, 6, 0, 6, 6,\n",
              "       7, 3, 6, 6, 4, 6, 0, 5, 5, 2, 4, 4, 7, 0, 4, 5, 7, 2, 6, 0, 1, 7,\n",
              "       7, 6, 5, 0, 7, 0, 0, 4, 2, 3, 7, 3, 2, 3, 2, 5, 6, 6, 1, 0, 1, 6,\n",
              "       5, 6, 6, 2, 2, 7, 5, 7, 2, 3, 1, 3, 1, 5, 4, 2, 0, 7, 7, 3, 3, 1,\n",
              "       4, 5, 5, 3, 2, 6, 6, 0, 7, 7, 5, 3, 0, 2, 0, 5, 0, 7, 6, 2, 6, 3,\n",
              "       5, 7, 7, 7, 5, 6, 5, 5, 1, 5, 6, 0, 4, 0, 7, 2, 1, 6, 7, 0, 6, 1,\n",
              "       5, 6, 3, 5, 1, 0, 2, 1, 3, 6, 3, 3, 3, 1, 5, 6, 7, 5, 5, 2, 1, 0,\n",
              "       1, 5, 1, 5, 3, 7, 2, 7, 7, 0, 2, 5, 5, 2, 4, 6, 4, 4, 6, 5, 6, 4,\n",
              "       6, 5, 2, 3, 7, 3, 1, 6, 3, 2, 1, 4, 6, 2, 0, 7, 1, 4, 1, 5, 0, 3,\n",
              "       1, 5, 0, 6, 2, 4, 5, 0, 7, 4, 4, 6, 2, 0, 7, 3, 0, 7, 0, 7, 4, 7,\n",
              "       3, 3, 0, 1, 2, 0, 3, 4, 1, 1, 6, 2])"
            ]
          },
          "metadata": {
            "tags": []
          },
          "execution_count": 18
        }
      ]
    },
    {
      "cell_type": "code",
      "metadata": {
        "id": "WPA6SdNKvJhN",
        "colab_type": "code",
        "outputId": "10ef6190-e1f9-4e1c-a03e-5f9219079df3",
        "colab": {
          "base_uri": "https://localhost:8080/",
          "height": 51
        }
      },
      "source": [
        "print(labels.shape)\n",
        "labels = labels.reshape(len(labels), 1)\n",
        "print(labels.shape)"
      ],
      "execution_count": 19,
      "outputs": [
        {
          "output_type": "stream",
          "text": [
            "(364,)\n",
            "(364, 1)\n"
          ],
          "name": "stdout"
        }
      ]
    },
    {
      "cell_type": "code",
      "metadata": {
        "id": "nEAQikk8uQ-g",
        "colab_type": "code",
        "outputId": "703bdabf-c88f-4b2a-8bae-3e2909b2ea08",
        "colab": {
          "base_uri": "https://localhost:8080/",
          "height": 136
        }
      },
      "source": [
        "one = OneHotEncoder()\n",
        "labels = one.fit_transform(labels[:]).toarray()\n",
        "labels"
      ],
      "execution_count": 20,
      "outputs": [
        {
          "output_type": "execute_result",
          "data": {
            "text/plain": [
              "array([[0., 0., 1., ..., 0., 0., 0.],\n",
              "       [1., 0., 0., ..., 0., 0., 0.],\n",
              "       [0., 1., 0., ..., 0., 0., 0.],\n",
              "       ...,\n",
              "       [0., 1., 0., ..., 0., 0., 0.],\n",
              "       [0., 0., 0., ..., 0., 1., 0.],\n",
              "       [0., 0., 1., ..., 0., 0., 0.]])"
            ]
          },
          "metadata": {
            "tags": []
          },
          "execution_count": 20
        }
      ]
    },
    {
      "cell_type": "code",
      "metadata": {
        "id": "vK0Sg0K8uQzA",
        "colab_type": "code",
        "outputId": "95e0bff3-d8c8-49c3-898b-ccdf6ce4e6c7",
        "colab": {
          "base_uri": "https://localhost:8080/",
          "height": 34
        }
      },
      "source": [
        "labels.shape"
      ],
      "execution_count": 21,
      "outputs": [
        {
          "output_type": "execute_result",
          "data": {
            "text/plain": [
              "(364, 8)"
            ]
          },
          "metadata": {
            "tags": []
          },
          "execution_count": 21
        }
      ]
    },
    {
      "cell_type": "code",
      "metadata": {
        "id": "LmpwiEtvv2KG",
        "colab_type": "code",
        "colab": {}
      },
      "source": [
        "X_train, X_val, Y_train, Y_val = train_test_split(images, labels, test_size = 0.2, random_state = 42)"
      ],
      "execution_count": 0,
      "outputs": []
    },
    {
      "cell_type": "code",
      "metadata": {
        "id": "F3YsvvAZv2FO",
        "colab_type": "code",
        "outputId": "94d06d10-541f-4741-8a57-291b3eb8e980",
        "colab": {
          "base_uri": "https://localhost:8080/",
          "height": 85
        }
      },
      "source": [
        "print(X_train.shape)\n",
        "print(X_val.shape)\n",
        "print(Y_train.shape)\n",
        "print(Y_val.shape)"
      ],
      "execution_count": 23,
      "outputs": [
        {
          "output_type": "stream",
          "text": [
            "(291, 600, 600, 3)\n",
            "(73, 600, 600, 3)\n",
            "(291, 8)\n",
            "(73, 8)\n"
          ],
          "name": "stdout"
        }
      ]
    },
    {
      "cell_type": "code",
      "metadata": {
        "id": "kd6RlXpEs4UE",
        "colab_type": "code",
        "colab": {}
      },
      "source": [
        "model = tf.keras.models.Sequential([\n",
        "    # Note the input shape is the desired size of the image 150x150 with 3 bytes color\n",
        "    # This is the first convolution\n",
        "    tf.keras.layers.Conv2D(16, (3,3), activation='relu', input_shape=(600, 600, 3)),\n",
        "    tf.keras.layers.MaxPooling2D(2, 2),\n",
        "    tf.keras.layers.BatchNormalization(),\n",
        "    # The second convolution\n",
        "    tf.keras.layers.Conv2D(32, (3,3), activation='relu'),\n",
        "    tf.keras.layers.MaxPooling2D(2,2),\n",
        "    tf.keras.layers.BatchNormalization(),\n",
        "    # The third convolution\n",
        "    tf.keras.layers.Conv2D(64, (3,3), activation='relu'),\n",
        "    tf.keras.layers.MaxPooling2D(2,2),\n",
        "    tf.keras.layers.BatchNormalization(),\n",
        "    # The fourth convolution\n",
        "    tf.keras.layers.Conv2D(64, (3,3), activation='relu'),\n",
        "    tf.keras.layers.MaxPooling2D(2,2),\n",
        "    tf.keras.layers.BatchNormalization(),\n",
        "    # The fifth convolution\n",
        "    tf.keras.layers.Conv2D(64, (3,3), activation='relu'),\n",
        "    tf.keras.layers.MaxPooling2D(2,2),\n",
        "    tf.keras.layers.BatchNormalization(),\n",
        "    # Flatten the results to feed into a DNN\n",
        "    tf.keras.layers.Flatten(),\n",
        "    # 512 neuron hidden layer\n",
        "    tf.keras.layers.Dense(512, activation='relu', kernel_regularizer=regularizers.l2(0.001)),\n",
        "    tf.keras.layers.Dropout(0.5),\n",
        "    # 8 output neuron\n",
        "    tf.keras.layers.Dense(8, activation='softmax', kernel_regularizer=regularizers.l2(0.001))\n",
        "])"
      ],
      "execution_count": 0,
      "outputs": []
    },
    {
      "cell_type": "code",
      "metadata": {
        "id": "g3BMhRwhwWu6",
        "colab_type": "code",
        "outputId": "e5fcedc7-010b-4328-a646-39f2e6d25ab5",
        "colab": {
          "base_uri": "https://localhost:8080/",
          "height": 799
        }
      },
      "source": [
        "model.summary()"
      ],
      "execution_count": 25,
      "outputs": [
        {
          "output_type": "stream",
          "text": [
            "Model: \"sequential\"\n",
            "_________________________________________________________________\n",
            "Layer (type)                 Output Shape              Param #   \n",
            "=================================================================\n",
            "conv2d (Conv2D)              (None, 598, 598, 16)      448       \n",
            "_________________________________________________________________\n",
            "max_pooling2d (MaxPooling2D) (None, 299, 299, 16)      0         \n",
            "_________________________________________________________________\n",
            "batch_normalization (BatchNo (None, 299, 299, 16)      64        \n",
            "_________________________________________________________________\n",
            "conv2d_1 (Conv2D)            (None, 297, 297, 32)      4640      \n",
            "_________________________________________________________________\n",
            "max_pooling2d_1 (MaxPooling2 (None, 148, 148, 32)      0         \n",
            "_________________________________________________________________\n",
            "batch_normalization_1 (Batch (None, 148, 148, 32)      128       \n",
            "_________________________________________________________________\n",
            "conv2d_2 (Conv2D)            (None, 146, 146, 64)      18496     \n",
            "_________________________________________________________________\n",
            "max_pooling2d_2 (MaxPooling2 (None, 73, 73, 64)        0         \n",
            "_________________________________________________________________\n",
            "batch_normalization_2 (Batch (None, 73, 73, 64)        256       \n",
            "_________________________________________________________________\n",
            "conv2d_3 (Conv2D)            (None, 71, 71, 64)        36928     \n",
            "_________________________________________________________________\n",
            "max_pooling2d_3 (MaxPooling2 (None, 35, 35, 64)        0         \n",
            "_________________________________________________________________\n",
            "batch_normalization_3 (Batch (None, 35, 35, 64)        256       \n",
            "_________________________________________________________________\n",
            "conv2d_4 (Conv2D)            (None, 33, 33, 64)        36928     \n",
            "_________________________________________________________________\n",
            "max_pooling2d_4 (MaxPooling2 (None, 16, 16, 64)        0         \n",
            "_________________________________________________________________\n",
            "batch_normalization_4 (Batch (None, 16, 16, 64)        256       \n",
            "_________________________________________________________________\n",
            "flatten (Flatten)            (None, 16384)             0         \n",
            "_________________________________________________________________\n",
            "dense (Dense)                (None, 512)               8389120   \n",
            "_________________________________________________________________\n",
            "dropout (Dropout)            (None, 512)               0         \n",
            "_________________________________________________________________\n",
            "dense_1 (Dense)              (None, 8)                 4104      \n",
            "=================================================================\n",
            "Total params: 8,491,624\n",
            "Trainable params: 8,491,144\n",
            "Non-trainable params: 480\n",
            "_________________________________________________________________\n"
          ],
          "name": "stdout"
        }
      ]
    },
    {
      "cell_type": "code",
      "metadata": {
        "id": "yafeIpoawal3",
        "colab_type": "code",
        "colab": {}
      },
      "source": [
        "model.compile(loss='categorical_crossentropy',\n",
        "              optimizer='Adam',\n",
        "              metrics=['accuracy'])"
      ],
      "execution_count": 0,
      "outputs": []
    },
    {
      "cell_type": "code",
      "metadata": {
        "id": "6vQCbY2Aw6bz",
        "colab_type": "code",
        "outputId": "d03407ad-c483-46b3-83c8-430447660905",
        "colab": {
          "base_uri": "https://localhost:8080/",
          "height": 697
        }
      },
      "source": [
        "history = model.fit(X_train, Y_train, epochs=20, verbose = 2, validation_data=(X_val, Y_val), batch_size=64)"
      ],
      "execution_count": 27,
      "outputs": [
        {
          "output_type": "stream",
          "text": [
            "Epoch 1/20\n",
            "5/5 - 3s - loss: 7.5263 - accuracy: 0.1649 - val_loss: 3.1992 - val_accuracy: 0.0685\n",
            "Epoch 2/20\n",
            "5/5 - 1s - loss: 3.2518 - accuracy: 0.5567 - val_loss: 3.3975 - val_accuracy: 0.1644\n",
            "Epoch 3/20\n",
            "5/5 - 1s - loss: 2.2326 - accuracy: 0.7491 - val_loss: 3.4958 - val_accuracy: 0.0959\n",
            "Epoch 4/20\n",
            "5/5 - 1s - loss: 2.0587 - accuracy: 0.8007 - val_loss: 4.0615 - val_accuracy: 0.1507\n",
            "Epoch 5/20\n",
            "5/5 - 1s - loss: 1.8509 - accuracy: 0.8454 - val_loss: 5.1250 - val_accuracy: 0.0685\n",
            "Epoch 6/20\n",
            "5/5 - 1s - loss: 1.6609 - accuracy: 0.8729 - val_loss: 5.7314 - val_accuracy: 0.0822\n",
            "Epoch 7/20\n",
            "5/5 - 1s - loss: 1.4851 - accuracy: 0.9244 - val_loss: 6.6587 - val_accuracy: 0.0822\n",
            "Epoch 8/20\n",
            "5/5 - 1s - loss: 1.4687 - accuracy: 0.9519 - val_loss: 7.8409 - val_accuracy: 0.0822\n",
            "Epoch 9/20\n",
            "5/5 - 1s - loss: 1.3960 - accuracy: 0.9553 - val_loss: 8.3272 - val_accuracy: 0.0822\n",
            "Epoch 10/20\n",
            "5/5 - 1s - loss: 1.3608 - accuracy: 0.9691 - val_loss: 8.1767 - val_accuracy: 0.0822\n",
            "Epoch 11/20\n",
            "5/5 - 1s - loss: 1.3109 - accuracy: 0.9863 - val_loss: 8.2508 - val_accuracy: 0.0822\n",
            "Epoch 12/20\n",
            "5/5 - 1s - loss: 1.3116 - accuracy: 0.9897 - val_loss: 8.6672 - val_accuracy: 0.0822\n",
            "Epoch 13/20\n",
            "5/5 - 1s - loss: 1.2918 - accuracy: 0.9897 - val_loss: 9.1827 - val_accuracy: 0.0822\n",
            "Epoch 14/20\n",
            "5/5 - 1s - loss: 1.2884 - accuracy: 0.9931 - val_loss: 10.0389 - val_accuracy: 0.0959\n",
            "Epoch 15/20\n",
            "5/5 - 1s - loss: 1.2908 - accuracy: 0.9897 - val_loss: 10.8456 - val_accuracy: 0.1096\n",
            "Epoch 16/20\n",
            "5/5 - 1s - loss: 1.2785 - accuracy: 0.9863 - val_loss: 11.9854 - val_accuracy: 0.0822\n",
            "Epoch 17/20\n",
            "5/5 - 1s - loss: 1.2974 - accuracy: 0.9828 - val_loss: 12.9814 - val_accuracy: 0.0959\n",
            "Epoch 18/20\n",
            "5/5 - 1s - loss: 1.2877 - accuracy: 0.9863 - val_loss: 14.1083 - val_accuracy: 0.1096\n",
            "Epoch 19/20\n",
            "5/5 - 1s - loss: 1.2710 - accuracy: 0.9863 - val_loss: 14.6867 - val_accuracy: 0.1096\n",
            "Epoch 20/20\n",
            "5/5 - 1s - loss: 1.2530 - accuracy: 0.9863 - val_loss: 14.5948 - val_accuracy: 0.0959\n"
          ],
          "name": "stdout"
        }
      ]
    },
    {
      "cell_type": "code",
      "metadata": {
        "id": "VypC063cxP9t",
        "colab_type": "code",
        "outputId": "cee5aec5-b2e1-4fc7-acc9-c043fa30942a",
        "colab": {
          "base_uri": "https://localhost:8080/",
          "height": 295
        }
      },
      "source": [
        "# summarize history for loss\n",
        "plt.plot(history.history['loss'])\n",
        "plt.plot(history.history['val_loss'])\n",
        "plt.title('model loss')\n",
        "plt.ylabel('loss')\n",
        "plt.xlabel('epoch')\n",
        "plt.legend(['train', 'test'], loc='upper left')\n",
        "plt.show()"
      ],
      "execution_count": 29,
      "outputs": [
        {
          "output_type": "display_data",
          "data": {
            "image/png": "[encoded data removed]",
            "text/plain": [
              "<Figure size 432x288 with 1 Axes>"
            ]
          },
          "metadata": {
            "tags": [],
            "needs_background": "light"
          }
        }
      ]
    },
    {
      "cell_type": "code",
      "metadata": {
        "id": "jhgu29wZ0bLJ",
        "colab_type": "code",
        "outputId": "512964d7-b626-4fd4-b5ea-7b25ab8e259d",
        "colab": {
          "base_uri": "https://localhost:8080/",
          "height": 295
        }
      },
      "source": [
        "# summarize history for accuracy\n",
        "plt.plot(history.history['accuracy'])\n",
        "plt.plot(history.history['val_accuracy'])\n",
        "plt.title('model accuracy')\n",
        "plt.ylabel('accuracy')\n",
        "plt.xlabel('epoch')\n",
        "plt.legend(['train', 'test'], loc='upper left')\n",
        "plt.show()"
      ],
      "execution_count": 30,
      "outputs": [
        {
          "output_type": "display_data",
          "data": {
            "image/png": "[encoded data removed]",
            "text/plain": [
              "<Figure size 432x288 with 1 Axes>"
            ]
          },
          "metadata": {
            "tags": [],
            "needs_background": "light"
          }
        }
      ]
    },
    {
      "cell_type": "code",
      "metadata": {
        "id": "8QjxacjM0omJ",
        "colab_type": "code",
        "colab": {}
      },
      "source": [
        ""
      ],
      "execution_count": 0,
      "outputs": []
    }
  ]
}